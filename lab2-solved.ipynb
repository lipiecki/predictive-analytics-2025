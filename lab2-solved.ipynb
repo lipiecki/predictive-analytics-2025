{
 "cells": [
  {
   "cell_type": "markdown",
   "id": "4ddefde1",
   "metadata": {},
   "source": [
    "## List 1\n",
    "**Code snippets with `...` are to be filled by you**"
   ]
  },
  {
   "cell_type": "code",
   "execution_count": 15,
   "id": "20c83fe7",
   "metadata": {},
   "outputs": [],
   "source": [
    "import numpy as np\n",
    "import polars as pl\n",
    "import scipy"
   ]
  },
  {
   "cell_type": "markdown",
   "id": "44f08ccb",
   "metadata": {},
   "source": [
    "Load the GEFCOM dataset"
   ]
  },
  {
   "cell_type": "code",
   "execution_count": 16,
   "id": "bfe822e9",
   "metadata": {},
   "outputs": [
    {
     "data": {
      "text/html": [
       "<div><style>\n",
       ".dataframe > thead > tr,\n",
       ".dataframe > tbody > tr {\n",
       "  text-align: right;\n",
       "  white-space: pre-wrap;\n",
       "}\n",
       "</style>\n",
       "<small>shape: (25_968, 7)</small><table border=\"1\" class=\"dataframe\"><thead><tr><th>column_1</th><th>column_2</th><th>column_3</th><th>column_4</th><th>column_5</th><th>column_6</th><th>column_7</th></tr><tr><td>f64</td><td>f64</td><td>f64</td><td>f64</td><td>f64</td><td>f64</td><td>str</td></tr></thead><tbody><tr><td>2.0110101e7</td><td>0.0</td><td>43.17</td><td>15187.0</td><td>5091.0</td><td>6.0</td><td>null</td></tr><tr><td>2.0110101e7</td><td>1.0</td><td>36.24</td><td>14464.0</td><td>4918.0</td><td>6.0</td><td>null</td></tr><tr><td>2.0110101e7</td><td>2.0</td><td>34.64</td><td>13940.0</td><td>4763.0</td><td>6.0</td><td>null</td></tr><tr><td>2.0110101e7</td><td>3.0</td><td>33.76</td><td>13609.0</td><td>4660.0</td><td>6.0</td><td>null</td></tr><tr><td>2.0110101e7</td><td>4.0</td><td>33.08</td><td>13391.0</td><td>4599.0</td><td>6.0</td><td>null</td></tr><tr><td>&hellip;</td><td>&hellip;</td><td>&hellip;</td><td>&hellip;</td><td>&hellip;</td><td>&hellip;</td><td>&hellip;</td></tr><tr><td>2.0131217e7</td><td>19.0</td><td>113.92</td><td>23091.0</td><td>7167.0</td><td>2.0</td><td>null</td></tr><tr><td>2.0131217e7</td><td>20.0</td><td>107.26</td><td>22504.0</td><td>6958.0</td><td>2.0</td><td>null</td></tr><tr><td>2.0131217e7</td><td>21.0</td><td>89.02</td><td>21538.0</td><td>6707.0</td><td>2.0</td><td>null</td></tr><tr><td>2.0131217e7</td><td>22.0</td><td>85.4</td><td>20025.0</td><td>6316.0</td><td>2.0</td><td>null</td></tr><tr><td>2.0131217e7</td><td>23.0</td><td>86.13</td><td>18306.0</td><td>5812.0</td><td>2.0</td><td>null</td></tr></tbody></table></div>"
      ],
      "text/plain": [
       "shape: (25_968, 7)\n",
       "┌─────────────┬──────────┬──────────┬──────────┬──────────┬──────────┬──────────┐\n",
       "│ column_1    ┆ column_2 ┆ column_3 ┆ column_4 ┆ column_5 ┆ column_6 ┆ column_7 │\n",
       "│ ---         ┆ ---      ┆ ---      ┆ ---      ┆ ---      ┆ ---      ┆ ---      │\n",
       "│ f64         ┆ f64      ┆ f64      ┆ f64      ┆ f64      ┆ f64      ┆ str      │\n",
       "╞═════════════╪══════════╪══════════╪══════════╪══════════╪══════════╪══════════╡\n",
       "│ 2.0110101e7 ┆ 0.0      ┆ 43.17    ┆ 15187.0  ┆ 5091.0   ┆ 6.0      ┆ null     │\n",
       "│ 2.0110101e7 ┆ 1.0      ┆ 36.24    ┆ 14464.0  ┆ 4918.0   ┆ 6.0      ┆ null     │\n",
       "│ 2.0110101e7 ┆ 2.0      ┆ 34.64    ┆ 13940.0  ┆ 4763.0   ┆ 6.0      ┆ null     │\n",
       "│ 2.0110101e7 ┆ 3.0      ┆ 33.76    ┆ 13609.0  ┆ 4660.0   ┆ 6.0      ┆ null     │\n",
       "│ 2.0110101e7 ┆ 4.0      ┆ 33.08    ┆ 13391.0  ┆ 4599.0   ┆ 6.0      ┆ null     │\n",
       "│ …           ┆ …        ┆ …        ┆ …        ┆ …        ┆ …        ┆ …        │\n",
       "│ 2.0131217e7 ┆ 19.0     ┆ 113.92   ┆ 23091.0  ┆ 7167.0   ┆ 2.0      ┆ null     │\n",
       "│ 2.0131217e7 ┆ 20.0     ┆ 107.26   ┆ 22504.0  ┆ 6958.0   ┆ 2.0      ┆ null     │\n",
       "│ 2.0131217e7 ┆ 21.0     ┆ 89.02    ┆ 21538.0  ┆ 6707.0   ┆ 2.0      ┆ null     │\n",
       "│ 2.0131217e7 ┆ 22.0     ┆ 85.4     ┆ 20025.0  ┆ 6316.0   ┆ 2.0      ┆ null     │\n",
       "│ 2.0131217e7 ┆ 23.0     ┆ 86.13    ┆ 18306.0  ┆ 5812.0   ┆ 2.0      ┆ null     │\n",
       "└─────────────┴──────────┴──────────┴──────────┴──────────┴──────────┴──────────┘"
      ]
     },
     "execution_count": 16,
     "metadata": {},
     "output_type": "execute_result"
    }
   ],
   "source": [
    "df = pl.read_csv('data/gefcom.txt', separator='\\t', has_header=False)\n",
    "df"
   ]
  },
  {
   "cell_type": "markdown",
   "id": "27981464",
   "metadata": {},
   "source": [
    "Rename columns and recast to appropriate types"
   ]
  },
  {
   "cell_type": "code",
   "execution_count": 17,
   "id": "be2588c8",
   "metadata": {},
   "outputs": [
    {
     "data": {
      "text/html": [
       "<div><style>\n",
       ".dataframe > thead > tr,\n",
       ".dataframe > tbody > tr {\n",
       "  text-align: right;\n",
       "  white-space: pre-wrap;\n",
       "}\n",
       "</style>\n",
       "<small>shape: (25_968, 4)</small><table border=\"1\" class=\"dataframe\"><thead><tr><th>Date</th><th>Hour</th><th>Price</th><th>Weekday</th></tr><tr><td>u32</td><td>u8</td><td>f64</td><td>u8</td></tr></thead><tbody><tr><td>20110101</td><td>0</td><td>43.17</td><td>6</td></tr><tr><td>20110101</td><td>1</td><td>36.24</td><td>6</td></tr><tr><td>20110101</td><td>2</td><td>34.64</td><td>6</td></tr><tr><td>20110101</td><td>3</td><td>33.76</td><td>6</td></tr><tr><td>20110101</td><td>4</td><td>33.08</td><td>6</td></tr><tr><td>&hellip;</td><td>&hellip;</td><td>&hellip;</td><td>&hellip;</td></tr><tr><td>20131217</td><td>19</td><td>113.92</td><td>2</td></tr><tr><td>20131217</td><td>20</td><td>107.26</td><td>2</td></tr><tr><td>20131217</td><td>21</td><td>89.02</td><td>2</td></tr><tr><td>20131217</td><td>22</td><td>85.4</td><td>2</td></tr><tr><td>20131217</td><td>23</td><td>86.13</td><td>2</td></tr></tbody></table></div>"
      ],
      "text/plain": [
       "shape: (25_968, 4)\n",
       "┌──────────┬──────┬────────┬─────────┐\n",
       "│ Date     ┆ Hour ┆ Price  ┆ Weekday │\n",
       "│ ---      ┆ ---  ┆ ---    ┆ ---     │\n",
       "│ u32      ┆ u8   ┆ f64    ┆ u8      │\n",
       "╞══════════╪══════╪════════╪═════════╡\n",
       "│ 20110101 ┆ 0    ┆ 43.17  ┆ 6       │\n",
       "│ 20110101 ┆ 1    ┆ 36.24  ┆ 6       │\n",
       "│ 20110101 ┆ 2    ┆ 34.64  ┆ 6       │\n",
       "│ 20110101 ┆ 3    ┆ 33.76  ┆ 6       │\n",
       "│ 20110101 ┆ 4    ┆ 33.08  ┆ 6       │\n",
       "│ …        ┆ …    ┆ …      ┆ …       │\n",
       "│ 20131217 ┆ 19   ┆ 113.92 ┆ 2       │\n",
       "│ 20131217 ┆ 20   ┆ 107.26 ┆ 2       │\n",
       "│ 20131217 ┆ 21   ┆ 89.02  ┆ 2       │\n",
       "│ 20131217 ┆ 22   ┆ 85.4   ┆ 2       │\n",
       "│ 20131217 ┆ 23   ┆ 86.13  ┆ 2       │\n",
       "└──────────┴──────┴────────┴─────────┘"
      ]
     },
     "execution_count": 17,
     "metadata": {},
     "output_type": "execute_result"
    }
   ],
   "source": [
    "df = df.select(\n",
    "    pl.col(\"column_1\").cast(pl.UInt32).alias(\"Date\"),\n",
    "    pl.col(\"column_2\").cast(pl.UInt8).alias(\"Hour\"),\n",
    "    pl.col(\"column_3\").cast(pl.Float64).alias(\"Price\"),\n",
    "    pl.col(\"column_6\").cast(pl.UInt8).alias(\"Weekday\")\n",
    ")\n",
    "df"
   ]
  },
  {
   "cell_type": "markdown",
   "id": "de2d486c",
   "metadata": {},
   "source": [
    "### Task 1\n",
    "Forecast daily average price using:\n",
    "- naive one-step ahead forecasts,\n",
    "- simple ETS,\n",
    "- Holt-Winters (HW).\n",
    "\n",
    "Use the first 360 days for calibration of the rest for testing."
   ]
  },
  {
   "cell_type": "markdown",
   "id": "1681d122",
   "metadata": {},
   "source": [
    "Create a dataframe with the time series of daily average price"
   ]
  },
  {
   "cell_type": "code",
   "execution_count": 18,
   "id": "472f3f24",
   "metadata": {},
   "outputs": [
    {
     "data": {
      "text/html": [
       "<div><style>\n",
       ".dataframe > thead > tr,\n",
       ".dataframe > tbody > tr {\n",
       "  text-align: right;\n",
       "  white-space: pre-wrap;\n",
       "}\n",
       "</style>\n",
       "<small>shape: (1_082, 3)</small><table border=\"1\" class=\"dataframe\"><thead><tr><th>Date</th><th>Daily Average Price</th><th>Weekday</th></tr><tr><td>u32</td><td>f64</td><td>u8</td></tr></thead><tbody><tr><td>20110101</td><td>43.621667</td><td>6</td></tr><tr><td>20110102</td><td>43.015417</td><td>7</td></tr><tr><td>20110103</td><td>52.089583</td><td>1</td></tr><tr><td>20110104</td><td>51.254583</td><td>2</td></tr><tr><td>20110105</td><td>56.229167</td><td>3</td></tr><tr><td>&hellip;</td><td>&hellip;</td><td>&hellip;</td></tr><tr><td>20131213</td><td>145.694583</td><td>5</td></tr><tr><td>20131214</td><td>93.030417</td><td>6</td></tr><tr><td>20131215</td><td>77.7175</td><td>7</td></tr><tr><td>20131216</td><td>108.660417</td><td>1</td></tr><tr><td>20131217</td><td>95.795417</td><td>2</td></tr></tbody></table></div>"
      ],
      "text/plain": [
       "shape: (1_082, 3)\n",
       "┌──────────┬─────────────────────┬─────────┐\n",
       "│ Date     ┆ Daily Average Price ┆ Weekday │\n",
       "│ ---      ┆ ---                 ┆ ---     │\n",
       "│ u32      ┆ f64                 ┆ u8      │\n",
       "╞══════════╪═════════════════════╪═════════╡\n",
       "│ 20110101 ┆ 43.621667           ┆ 6       │\n",
       "│ 20110102 ┆ 43.015417           ┆ 7       │\n",
       "│ 20110103 ┆ 52.089583           ┆ 1       │\n",
       "│ 20110104 ┆ 51.254583           ┆ 2       │\n",
       "│ 20110105 ┆ 56.229167           ┆ 3       │\n",
       "│ …        ┆ …                   ┆ …       │\n",
       "│ 20131213 ┆ 145.694583          ┆ 5       │\n",
       "│ 20131214 ┆ 93.030417           ┆ 6       │\n",
       "│ 20131215 ┆ 77.7175             ┆ 7       │\n",
       "│ 20131216 ┆ 108.660417          ┆ 1       │\n",
       "│ 20131217 ┆ 95.795417           ┆ 2       │\n",
       "└──────────┴─────────────────────┴─────────┘"
      ]
     },
     "execution_count": 18,
     "metadata": {},
     "output_type": "execute_result"
    }
   ],
   "source": [
    "avg = df.group_by(\"Date\").agg(pl.col(\"Price\").mean().alias(\"Daily Average Price\"), pl.col(\"Weekday\").first())\n",
    "avg = avg.sort(\"Date\")\n",
    "avg"
   ]
  },
  {
   "cell_type": "markdown",
   "id": "0ba8089d",
   "metadata": {},
   "source": [
    "Calculate the naive one-step ahead forecasts"
   ]
  },
  {
   "cell_type": "code",
   "execution_count": 19,
   "id": "86f3066f",
   "metadata": {},
   "outputs": [],
   "source": [
    "avg = avg.with_columns(Naive = pl.col(\"Daily Average Price\").shift(1))"
   ]
  },
  {
   "cell_type": "markdown",
   "id": "fdf0db31",
   "metadata": {},
   "source": [
    "Calculate the simple ETS"
   ]
  },
  {
   "cell_type": "code",
   "execution_count": 20,
   "id": "83658f9c",
   "metadata": {},
   "outputs": [],
   "source": [
    "T = 360\n",
    "series = avg.select(pl.col(\"Daily Average Price\")).to_numpy().ravel()\n",
    "train, test = series[:T], series[T:]"
   ]
  },
  {
   "cell_type": "code",
   "execution_count": 21,
   "id": "a367c7a9",
   "metadata": {},
   "outputs": [],
   "source": [
    "def ets(params, obs):\n",
    "    '''\n",
    "    params:  parameters of the ETS model (alpha = params[0])\n",
    "    obs:    'vector' of observations, which indices correspond to consecutive timesteps\n",
    "    '''\n",
    "    \n",
    "    alpha = params[0]\n",
    "    forecast = np.full(len(obs), np.nan) \n",
    "    forecast[1] = obs[0] # start with naive forecast\n",
    "\n",
    "    for t in range(1, len(obs)-1):\n",
    "        forecast[t+1] = alpha*obs[t] + (1-alpha)*forecast[t]\n",
    "    \n",
    "    return forecast\n",
    "\n",
    "def loss_function_ets(params, obs):\n",
    "    forecasts = ets(params, obs)\n",
    "    return np.mean(np.square(forecasts[1:]-obs[1:]))\n",
    "\n",
    "opt_params_ets = scipy.optimize.minimize(loss_function_ets, [0.5], args=(train), bounds = [(0, 1)]).x"
   ]
  },
  {
   "cell_type": "markdown",
   "id": "85d7a878",
   "metadata": {},
   "source": [
    "Implement Holt-Winters:\n",
    "- fill `...` in the code below\n",
    "- optimize `params` to minimize MSE on the first 360 days of the data (training set) using `scipy.optimize.minimize`"
   ]
  },
  {
   "cell_type": "code",
   "execution_count": 22,
   "id": "6a020bf4",
   "metadata": {},
   "outputs": [],
   "source": [
    "def holtwinters(params, s, obs):\n",
    "    \"\"\"\n",
    "    Calculates forecasts using Holt-Winters exponential smoothing.\n",
    "\n",
    "    Args:\n",
    "        params (tuple): parameters in the form of a 3-tuple (alpha, beta, gamma)\n",
    "        s (int): seasonality period\n",
    "        obs (1d numpy array): observed values of the timeseries to forecast\n",
    "    \n",
    "    Returns:\n",
    "        numpy array of forecasts with the length equal to obs.\n",
    "    \"\"\"\n",
    "    alpha, beta, gamma = params\n",
    "    level = np.full(len(obs), np.nan)\n",
    "    trend = np.full(len(obs), np.nan)\n",
    "    season = np.full(len(obs), np.nan)\n",
    "    forecast = np.full(len(obs), np.nan)\n",
    "\n",
    "    # set initial values\n",
    "    level[s-1] = np.mean(obs[:s])\n",
    "    trend[s-1] = (np.mean(obs[s:2*s]) - np.mean(obs[:s]))/s\n",
    "    season[:s] = obs[:s] - level[s-1]\n",
    "\n",
    "    # iteratively compute consecutive forecasts\n",
    "    for t in range(s, len(obs)-1):\n",
    "        level[t] = alpha*(obs[t] - season[t-s]) + (1-alpha)*(level[t-1] + trend[t-1])\n",
    "        trend[t] = beta*(level[t] - level[t-1]) + (1-beta)*trend[t-1]\n",
    "        season[t] = gamma*(obs[t] - level[t]) + (1-gamma)*season[t-s]\n",
    "        forecast[t+1] = level[t] + trend[t] + season[t-s+1]\n",
    "\n",
    "    return forecast\n",
    "\n",
    "def loss_function_hw(params, s, obs):    \n",
    "    forecasts = holtwinters(params, s, obs)\n",
    "    return np.mean(np.square(forecasts[2*s:]-obs[2*s:]))\n",
    "\n",
    "opt_params_hw = scipy.optimize.minimize(loss_function_hw, [0.5, 0.5, 0.5], args=(7, train), bounds = [(0, 1), (0, 1), (0, 1)]).x"
   ]
  },
  {
   "cell_type": "markdown",
   "id": "ecf5fcf4",
   "metadata": {},
   "source": [
    "Calculate MAE and MSE of naive, ETS and Holt-Winters forecasts on the testing set"
   ]
  },
  {
   "cell_type": "code",
   "execution_count": 23,
   "id": "585d8ddf",
   "metadata": {},
   "outputs": [],
   "source": [
    "avg = avg.with_columns(ETS = ets(opt_params_ets, avg.select(pl.col(\"Daily Average Price\")).to_numpy().ravel()))\n",
    "avg = avg.with_columns(HW = holtwinters(opt_params_hw, 7, avg.select(pl.col(\"Daily Average Price\")).to_numpy().ravel()))"
   ]
  },
  {
   "cell_type": "code",
   "execution_count": 24,
   "id": "c2fa4970",
   "metadata": {},
   "outputs": [
    {
     "name": "stdout",
     "output_type": "stream",
     "text": [
      "Naive ::: MAE = 6.0016314635272385 ::: RMSE = 11.1591860484464\n",
      "ETS ::: MAE = 6.0016314635272385 ::: RMSE = 11.1591860484464\n",
      "HW ::: MAE = 5.645741571187133 ::: RMSE = 10.965120636976996\n"
     ]
    }
   ],
   "source": [
    "for model in [\"Naive\", \"ETS\", \"HW\"]:\n",
    "    errors = avg.select(pl.col(model)).to_numpy().ravel()[T:] - test\n",
    "    mae = np.mean(np.abs(errors))\n",
    "    rmse = np.sqrt(np.mean(np.square(errors)))\n",
    "    print(f\"{model} ::: MAE = {mae} ::: RMSE = {rmse}\")"
   ]
  },
  {
   "cell_type": "markdown",
   "id": "4060d9e8",
   "metadata": {},
   "source": [
    "### Task 2\n",
    "Repeat task 1 using the first 720 days for calibration for ETS and HW models. Does the longer calibration window lead to more or less accurate forecasts? Compare the predictions only over the same out-of-sample period, i.e., days #721, #722, ... → why?"
   ]
  },
  {
   "cell_type": "code",
   "execution_count": 25,
   "id": "44734b68",
   "metadata": {},
   "outputs": [],
   "source": [
    "T = 720\n",
    "series = avg.select(pl.col(\"Daily Average Price\")).to_numpy().ravel()\n",
    "train, test = series[:T], series[T:]\n",
    "\n",
    "opt_params_ets = scipy.optimize.minimize(loss_function_ets, [0.5], args=(train), bounds = [(0, 1)]).x\n",
    "opt_params_hw = scipy.optimize.minimize(loss_function_hw, [0.5, 0.5, 0.5], args=(7, train), bounds = [(0, 1), (0, 1), (0, 1)]).x\n",
    "\n",
    "avg = avg.with_columns(ETS720 = ets(opt_params_ets, avg.select(pl.col(\"Daily Average Price\")).to_numpy().ravel()))\n",
    "avg = avg.with_columns(HW720 = holtwinters(opt_params_hw, 7, avg.select(pl.col(\"Daily Average Price\")).to_numpy().ravel()))"
   ]
  },
  {
   "cell_type": "code",
   "execution_count": 26,
   "id": "c831a99b",
   "metadata": {},
   "outputs": [
    {
     "name": "stdout",
     "output_type": "stream",
     "text": [
      "Naive ::: MAE = 7.221056629834254 ::: RMSE = 12.9436539533331\n",
      "ETS ::: MAE = 7.221056629834254 ::: RMSE = 12.9436539533331\n",
      "HW ::: MAE = 6.828768540018034 ::: RMSE = 12.679194280271247\n",
      "ETS720 ::: MAE = 7.221056629834254 ::: RMSE = 12.9436539533331\n",
      "HW720 ::: MAE = 6.828911519208887 ::: RMSE = 12.625192735510538\n"
     ]
    }
   ],
   "source": [
    "for model in [\"Naive\", \"ETS\", \"HW\", \"ETS720\", \"HW720\"]:\n",
    "    errors = avg.select(pl.col(model)).to_numpy().ravel()[T:] - test\n",
    "    mae = np.mean(np.abs(errors))\n",
    "    rmse = np.sqrt(np.mean(np.square(errors)))\n",
    "    print(f\"{model} ::: MAE = {mae} ::: RMSE = {rmse}\")"
   ]
  },
  {
   "cell_type": "markdown",
   "id": "d0194d12",
   "metadata": {},
   "source": [
    "### Task 3\n",
    "Repeat tasks 1 and 2 but forecast all hours of the day, treat prices at each hour of the day as separate time series."
   ]
  },
  {
   "cell_type": "code",
   "execution_count": 27,
   "id": "d8acff82",
   "metadata": {},
   "outputs": [],
   "source": [
    "df = df.with_columns(\n",
    "    Naive = pl.col(\"Price\").shift(24),\n",
    "    ETS = pl.lit(None),\n",
    "    HW = pl.lit(None),\n",
    "    ETS720 = pl.lit(None),\n",
    "    HW720 = pl.lit(None),\n",
    "    )\n",
    "\n",
    "for h in range(0, 24):\n",
    "    hourly = df.filter(pl.col('Hour') == h).sort('Date')\n",
    "    T = 360\n",
    "    train = hourly.select(pl.col(\"Price\")).to_numpy().ravel()[:T]\n",
    "    opt_params_ets = scipy.optimize.minimize(loss_function_ets, [0.5], args=(train), bounds = [(0, 1)]).x\n",
    "    opt_params_hw = scipy.optimize.minimize(loss_function_hw, [0.5, 0.5, 0.5], args=(7, train), bounds = [(0, 1), (0, 1), (0, 1)]).x\n",
    "\n",
    "    hourly = hourly.with_columns(\n",
    "        ETS_h = ets(opt_params_ets, hourly.select(pl.col(\"Price\")).to_numpy().ravel()),\n",
    "        HW_h =  holtwinters(opt_params_hw, 7, hourly.select(pl.col(\"Price\")).to_numpy().ravel())\n",
    "    )\n",
    "\n",
    "    T = 720\n",
    "    train = hourly.select(pl.col(\"Price\")).to_numpy().ravel()[:T]\n",
    "    opt_params_ets = scipy.optimize.minimize(loss_function_ets, [0.5], args=(train), bounds = [(0, 1)]).x\n",
    "    opt_params_hw = scipy.optimize.minimize(loss_function_hw, [0.5, 0.5, 0.5], args=(7, train), bounds = [(0, 1), (0, 1), (0, 1)]).x\n",
    "\n",
    "    hourly = hourly.with_columns(\n",
    "        ETS720_h = ets(opt_params_ets, hourly.select(pl.col(\"Price\")).to_numpy().ravel()),\n",
    "        HW720_h =  holtwinters(opt_params_hw, 7, hourly.select(pl.col(\"Price\")).to_numpy().ravel())\n",
    "    )\n",
    "    \n",
    "    df = df.join(hourly.select(pl.col([\"Date\", \"Hour\", \"ETS_h\", \"HW_h\", \"ETS720_h\", \"HW720_h\"])), on=[\"Date\", \"Hour\"], how=\"left\")\n",
    "\n",
    "    for colname in [\"ETS\", \"HW\", \"ETS720\", \"HW720\"]:\n",
    "        df = df.with_columns(\n",
    "            pl.when(pl.col('Hour') == h)\n",
    "                .then(pl.col(f\"{colname}_h\"))\n",
    "                .otherwise(pl.col(colname))\n",
    "                .alias(colname)\n",
    "        )\n",
    "        df = df.drop(f\"{colname}_h\")"
   ]
  },
  {
   "cell_type": "code",
   "execution_count": 28,
   "id": "6450570f",
   "metadata": {},
   "outputs": [
    {
     "name": "stdout",
     "output_type": "stream",
     "text": [
      "Naive ::: MAE = 8.191443370165747 ::: RMSE = 15.633654245686285\n",
      "ETS ::: MAE = 8.301894551224693 ::: RMSE = 15.79701287682037\n",
      "HW ::: MAE = 7.892520204090258 ::: RMSE = 15.28609169889551\n",
      "ETS720 ::: MAE = 8.299308834668821 ::: RMSE = 15.813918802554884\n",
      "HW720 ::: MAE = 7.965533674487849 ::: RMSE = 15.400091416261827\n"
     ]
    }
   ],
   "source": [
    "T = 720*24\n",
    "test = df.select(pl.col(\"Price\")).to_numpy().ravel()[T:]\n",
    "for model in [\"Naive\", \"ETS\", \"HW\", \"ETS720\", \"HW720\"]:\n",
    "    errors = df.select(pl.col(model)).to_numpy().ravel()[T:] - test\n",
    "    mae = np.mean(np.abs(errors))\n",
    "    rmse = np.sqrt(np.mean(np.square(errors)))\n",
    "    print(f\"{model} ::: MAE = {mae} ::: RMSE = {rmse}\")"
   ]
  },
  {
   "cell_type": "markdown",
   "id": "1a247c70",
   "metadata": {},
   "source": [
    "**Homework** \n",
    "\n",
    "Modify the codes so that the most recent data is used for estimating the model with shorter training window (360 days)."
   ]
  }
 ],
 "metadata": {
  "kernelspec": {
   "display_name": "predictive-analytics-2025",
   "language": "python",
   "name": "python3"
  },
  "language_info": {
   "codemirror_mode": {
    "name": "ipython",
    "version": 3
   },
   "file_extension": ".py",
   "mimetype": "text/x-python",
   "name": "python",
   "nbconvert_exporter": "python",
   "pygments_lexer": "ipython3",
   "version": "3.14.0"
  }
 },
 "nbformat": 4,
 "nbformat_minor": 5
}
