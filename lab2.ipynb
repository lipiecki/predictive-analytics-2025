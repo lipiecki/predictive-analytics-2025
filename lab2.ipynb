{
 "cells": [
  {
   "cell_type": "markdown",
   "id": "4ddefde1",
   "metadata": {},
   "source": [
    "## List 1\n",
    "**Code snippets with `...` are to be filled by you**"
   ]
  },
  {
   "cell_type": "code",
   "execution_count": 53,
   "id": "20c83fe7",
   "metadata": {},
   "outputs": [],
   "source": [
    "import numpy as np\n",
    "import polars as pl\n",
    "import scipy"
   ]
  },
  {
   "cell_type": "markdown",
   "id": "44f08ccb",
   "metadata": {},
   "source": [
    "Load the GEFCOM dataset"
   ]
  },
  {
   "cell_type": "code",
   "execution_count": 54,
   "id": "bfe822e9",
   "metadata": {},
   "outputs": [
    {
     "data": {
      "text/html": [
       "<div><style>\n",
       ".dataframe > thead > tr,\n",
       ".dataframe > tbody > tr {\n",
       "  text-align: right;\n",
       "  white-space: pre-wrap;\n",
       "}\n",
       "</style>\n",
       "<small>shape: (25_968, 7)</small><table border=\"1\" class=\"dataframe\"><thead><tr><th>column_1</th><th>column_2</th><th>column_3</th><th>column_4</th><th>column_5</th><th>column_6</th><th>column_7</th></tr><tr><td>f64</td><td>f64</td><td>f64</td><td>f64</td><td>f64</td><td>f64</td><td>str</td></tr></thead><tbody><tr><td>2.0110101e7</td><td>0.0</td><td>43.17</td><td>15187.0</td><td>5091.0</td><td>6.0</td><td>null</td></tr><tr><td>2.0110101e7</td><td>1.0</td><td>36.24</td><td>14464.0</td><td>4918.0</td><td>6.0</td><td>null</td></tr><tr><td>2.0110101e7</td><td>2.0</td><td>34.64</td><td>13940.0</td><td>4763.0</td><td>6.0</td><td>null</td></tr><tr><td>2.0110101e7</td><td>3.0</td><td>33.76</td><td>13609.0</td><td>4660.0</td><td>6.0</td><td>null</td></tr><tr><td>2.0110101e7</td><td>4.0</td><td>33.08</td><td>13391.0</td><td>4599.0</td><td>6.0</td><td>null</td></tr><tr><td>&hellip;</td><td>&hellip;</td><td>&hellip;</td><td>&hellip;</td><td>&hellip;</td><td>&hellip;</td><td>&hellip;</td></tr><tr><td>2.0131217e7</td><td>19.0</td><td>113.92</td><td>23091.0</td><td>7167.0</td><td>2.0</td><td>null</td></tr><tr><td>2.0131217e7</td><td>20.0</td><td>107.26</td><td>22504.0</td><td>6958.0</td><td>2.0</td><td>null</td></tr><tr><td>2.0131217e7</td><td>21.0</td><td>89.02</td><td>21538.0</td><td>6707.0</td><td>2.0</td><td>null</td></tr><tr><td>2.0131217e7</td><td>22.0</td><td>85.4</td><td>20025.0</td><td>6316.0</td><td>2.0</td><td>null</td></tr><tr><td>2.0131217e7</td><td>23.0</td><td>86.13</td><td>18306.0</td><td>5812.0</td><td>2.0</td><td>null</td></tr></tbody></table></div>"
      ],
      "text/plain": [
       "shape: (25_968, 7)\n",
       "┌─────────────┬──────────┬──────────┬──────────┬──────────┬──────────┬──────────┐\n",
       "│ column_1    ┆ column_2 ┆ column_3 ┆ column_4 ┆ column_5 ┆ column_6 ┆ column_7 │\n",
       "│ ---         ┆ ---      ┆ ---      ┆ ---      ┆ ---      ┆ ---      ┆ ---      │\n",
       "│ f64         ┆ f64      ┆ f64      ┆ f64      ┆ f64      ┆ f64      ┆ str      │\n",
       "╞═════════════╪══════════╪══════════╪══════════╪══════════╪══════════╪══════════╡\n",
       "│ 2.0110101e7 ┆ 0.0      ┆ 43.17    ┆ 15187.0  ┆ 5091.0   ┆ 6.0      ┆ null     │\n",
       "│ 2.0110101e7 ┆ 1.0      ┆ 36.24    ┆ 14464.0  ┆ 4918.0   ┆ 6.0      ┆ null     │\n",
       "│ 2.0110101e7 ┆ 2.0      ┆ 34.64    ┆ 13940.0  ┆ 4763.0   ┆ 6.0      ┆ null     │\n",
       "│ 2.0110101e7 ┆ 3.0      ┆ 33.76    ┆ 13609.0  ┆ 4660.0   ┆ 6.0      ┆ null     │\n",
       "│ 2.0110101e7 ┆ 4.0      ┆ 33.08    ┆ 13391.0  ┆ 4599.0   ┆ 6.0      ┆ null     │\n",
       "│ …           ┆ …        ┆ …        ┆ …        ┆ …        ┆ …        ┆ …        │\n",
       "│ 2.0131217e7 ┆ 19.0     ┆ 113.92   ┆ 23091.0  ┆ 7167.0   ┆ 2.0      ┆ null     │\n",
       "│ 2.0131217e7 ┆ 20.0     ┆ 107.26   ┆ 22504.0  ┆ 6958.0   ┆ 2.0      ┆ null     │\n",
       "│ 2.0131217e7 ┆ 21.0     ┆ 89.02    ┆ 21538.0  ┆ 6707.0   ┆ 2.0      ┆ null     │\n",
       "│ 2.0131217e7 ┆ 22.0     ┆ 85.4     ┆ 20025.0  ┆ 6316.0   ┆ 2.0      ┆ null     │\n",
       "│ 2.0131217e7 ┆ 23.0     ┆ 86.13    ┆ 18306.0  ┆ 5812.0   ┆ 2.0      ┆ null     │\n",
       "└─────────────┴──────────┴──────────┴──────────┴──────────┴──────────┴──────────┘"
      ]
     },
     "execution_count": 54,
     "metadata": {},
     "output_type": "execute_result"
    }
   ],
   "source": [
    "df = pl.read_csv('data/gefcom.txt', separator='\\t', has_header=False)\n",
    "df"
   ]
  },
  {
   "cell_type": "markdown",
   "id": "27981464",
   "metadata": {},
   "source": [
    "Rename columns and recast to appropriate types"
   ]
  },
  {
   "cell_type": "code",
   "execution_count": 55,
   "id": "be2588c8",
   "metadata": {},
   "outputs": [
    {
     "data": {
      "text/html": [
       "<div><style>\n",
       ".dataframe > thead > tr,\n",
       ".dataframe > tbody > tr {\n",
       "  text-align: right;\n",
       "  white-space: pre-wrap;\n",
       "}\n",
       "</style>\n",
       "<small>shape: (25_968, 4)</small><table border=\"1\" class=\"dataframe\"><thead><tr><th>Date</th><th>Hours</th><th>Price</th><th>Weekday</th></tr><tr><td>u32</td><td>u8</td><td>f64</td><td>u8</td></tr></thead><tbody><tr><td>20110101</td><td>0</td><td>43.17</td><td>6</td></tr><tr><td>20110101</td><td>1</td><td>36.24</td><td>6</td></tr><tr><td>20110101</td><td>2</td><td>34.64</td><td>6</td></tr><tr><td>20110101</td><td>3</td><td>33.76</td><td>6</td></tr><tr><td>20110101</td><td>4</td><td>33.08</td><td>6</td></tr><tr><td>&hellip;</td><td>&hellip;</td><td>&hellip;</td><td>&hellip;</td></tr><tr><td>20131217</td><td>19</td><td>113.92</td><td>2</td></tr><tr><td>20131217</td><td>20</td><td>107.26</td><td>2</td></tr><tr><td>20131217</td><td>21</td><td>89.02</td><td>2</td></tr><tr><td>20131217</td><td>22</td><td>85.4</td><td>2</td></tr><tr><td>20131217</td><td>23</td><td>86.13</td><td>2</td></tr></tbody></table></div>"
      ],
      "text/plain": [
       "shape: (25_968, 4)\n",
       "┌──────────┬───────┬────────┬─────────┐\n",
       "│ Date     ┆ Hours ┆ Price  ┆ Weekday │\n",
       "│ ---      ┆ ---   ┆ ---    ┆ ---     │\n",
       "│ u32      ┆ u8    ┆ f64    ┆ u8      │\n",
       "╞══════════╪═══════╪════════╪═════════╡\n",
       "│ 20110101 ┆ 0     ┆ 43.17  ┆ 6       │\n",
       "│ 20110101 ┆ 1     ┆ 36.24  ┆ 6       │\n",
       "│ 20110101 ┆ 2     ┆ 34.64  ┆ 6       │\n",
       "│ 20110101 ┆ 3     ┆ 33.76  ┆ 6       │\n",
       "│ 20110101 ┆ 4     ┆ 33.08  ┆ 6       │\n",
       "│ …        ┆ …     ┆ …      ┆ …       │\n",
       "│ 20131217 ┆ 19    ┆ 113.92 ┆ 2       │\n",
       "│ 20131217 ┆ 20    ┆ 107.26 ┆ 2       │\n",
       "│ 20131217 ┆ 21    ┆ 89.02  ┆ 2       │\n",
       "│ 20131217 ┆ 22    ┆ 85.4   ┆ 2       │\n",
       "│ 20131217 ┆ 23    ┆ 86.13  ┆ 2       │\n",
       "└──────────┴───────┴────────┴─────────┘"
      ]
     },
     "execution_count": 55,
     "metadata": {},
     "output_type": "execute_result"
    }
   ],
   "source": [
    "df = df.select(\n",
    "    pl.col(\"column_1\").cast(pl.UInt32).alias(\"Date\"),\n",
    "    pl.col(\"column_2\").cast(pl.UInt8).alias(\"Hours\"),\n",
    "    pl.col(\"column_3\").cast(pl.Float64).alias(\"Price\"),\n",
    "    pl.col(\"column_6\").cast(pl.UInt8).alias(\"Weekday\")\n",
    ")\n",
    "df"
   ]
  },
  {
   "cell_type": "markdown",
   "id": "de2d486c",
   "metadata": {},
   "source": [
    "### Task 1\n",
    "Forecast daily average price using:\n",
    "- naive one-step ahead forecasts,\n",
    "- simple ETS,\n",
    "- Holt-Winters (HW).\n",
    "\n",
    "Use the first 360 days for calibration of the rest for testing."
   ]
  },
  {
   "cell_type": "markdown",
   "id": "1681d122",
   "metadata": {},
   "source": [
    "Create a dataframe with the time series of daily average price"
   ]
  },
  {
   "cell_type": "code",
   "execution_count": 56,
   "id": "472f3f24",
   "metadata": {},
   "outputs": [
    {
     "data": {
      "text/html": [
       "<div><style>\n",
       ".dataframe > thead > tr,\n",
       ".dataframe > tbody > tr {\n",
       "  text-align: right;\n",
       "  white-space: pre-wrap;\n",
       "}\n",
       "</style>\n",
       "<small>shape: (1_082, 3)</small><table border=\"1\" class=\"dataframe\"><thead><tr><th>Date</th><th>Daily Average Price</th><th>Weekday</th></tr><tr><td>u32</td><td>f64</td><td>u8</td></tr></thead><tbody><tr><td>20110101</td><td>43.621667</td><td>6</td></tr><tr><td>20110102</td><td>43.015417</td><td>7</td></tr><tr><td>20110103</td><td>52.089583</td><td>1</td></tr><tr><td>20110104</td><td>51.254583</td><td>2</td></tr><tr><td>20110105</td><td>56.229167</td><td>3</td></tr><tr><td>&hellip;</td><td>&hellip;</td><td>&hellip;</td></tr><tr><td>20131213</td><td>145.694583</td><td>5</td></tr><tr><td>20131214</td><td>93.030417</td><td>6</td></tr><tr><td>20131215</td><td>77.7175</td><td>7</td></tr><tr><td>20131216</td><td>108.660417</td><td>1</td></tr><tr><td>20131217</td><td>95.795417</td><td>2</td></tr></tbody></table></div>"
      ],
      "text/plain": [
       "shape: (1_082, 3)\n",
       "┌──────────┬─────────────────────┬─────────┐\n",
       "│ Date     ┆ Daily Average Price ┆ Weekday │\n",
       "│ ---      ┆ ---                 ┆ ---     │\n",
       "│ u32      ┆ f64                 ┆ u8      │\n",
       "╞══════════╪═════════════════════╪═════════╡\n",
       "│ 20110101 ┆ 43.621667           ┆ 6       │\n",
       "│ 20110102 ┆ 43.015417           ┆ 7       │\n",
       "│ 20110103 ┆ 52.089583           ┆ 1       │\n",
       "│ 20110104 ┆ 51.254583           ┆ 2       │\n",
       "│ 20110105 ┆ 56.229167           ┆ 3       │\n",
       "│ …        ┆ …                   ┆ …       │\n",
       "│ 20131213 ┆ 145.694583          ┆ 5       │\n",
       "│ 20131214 ┆ 93.030417           ┆ 6       │\n",
       "│ 20131215 ┆ 77.7175             ┆ 7       │\n",
       "│ 20131216 ┆ 108.660417          ┆ 1       │\n",
       "│ 20131217 ┆ 95.795417           ┆ 2       │\n",
       "└──────────┴─────────────────────┴─────────┘"
      ]
     },
     "execution_count": 56,
     "metadata": {},
     "output_type": "execute_result"
    }
   ],
   "source": [
    "avg = df.group_by(\"Date\").agg(pl.col(\"Price\").mean().alias(\"Daily Average Price\"), pl.col(\"Weekday\").first())\n",
    "avg = avg.sort(\"Date\")\n",
    "avg"
   ]
  },
  {
   "cell_type": "markdown",
   "id": "0ba8089d",
   "metadata": {},
   "source": [
    "Calculate the naive one-step ahead forecasts"
   ]
  },
  {
   "cell_type": "code",
   "execution_count": 57,
   "id": "86f3066f",
   "metadata": {},
   "outputs": [
    {
     "data": {
      "text/plain": [
       "Ellipsis"
      ]
     },
     "execution_count": 57,
     "metadata": {},
     "output_type": "execute_result"
    }
   ],
   "source": [
    "..."
   ]
  },
  {
   "cell_type": "markdown",
   "id": "fdf0db31",
   "metadata": {},
   "source": [
    "Calculate the simple ETS"
   ]
  },
  {
   "cell_type": "code",
   "execution_count": 58,
   "id": "a367c7a9",
   "metadata": {},
   "outputs": [
    {
     "data": {
      "text/plain": [
       "Ellipsis"
      ]
     },
     "execution_count": 58,
     "metadata": {},
     "output_type": "execute_result"
    }
   ],
   "source": [
    "..."
   ]
  },
  {
   "cell_type": "markdown",
   "id": "85d7a878",
   "metadata": {},
   "source": [
    "Implement Holt-Winters:\n",
    "- fill `...` in the code below\n",
    "- optimize `params` to minimize MSE on the first 360 days of the data (training set) using `scipy.optimize.minimize`"
   ]
  },
  {
   "cell_type": "code",
   "execution_count": 59,
   "id": "6a020bf4",
   "metadata": {},
   "outputs": [],
   "source": [
    "def holtwinters(params, s, obs):\n",
    "    \"\"\"\n",
    "    Calculates forecasts using Holt-Winters exponential smoothing.\n",
    "\n",
    "    Args:\n",
    "        params (tuple): parameters in the form of a 3-tuple (alpha, beta, gamma)\n",
    "        s (int): seasonality period\n",
    "        obs (1d numpy array): observed values of the timeseries to forecast\n",
    "    \n",
    "    Returns:\n",
    "        numpy array of forecasts with the length equal to obs.\n",
    "    \"\"\"\n",
    "    alpha, beta, gamma = params\n",
    "    level = np.full(len(obs), np.nan)\n",
    "    trend = np.full(len(obs), np.nan)\n",
    "    season = np.full(len(obs), np.nan)\n",
    "    forecast = np.full(len(obs), np.nan)\n",
    "\n",
    "    # set initial values\n",
    "    level[s-1] = np.mean(obs[:s])\n",
    "    trend[s-1] = (np.mean(obs[s:2*s]) - np.mean(obs[:s]))/s\n",
    "    season[:s] = obs[:s] - level[s-1]\n",
    "\n",
    "    # iteratively compute consecutive forecasts\n",
    "    for t in range(s, len(obs)-1):\n",
    "        level[t] = ...\n",
    "        trend[t] = ...\n",
    "        season[t] = ...\n",
    "        forecast[t+1] = ...\n",
    "\n",
    "    return forecast"
   ]
  },
  {
   "cell_type": "markdown",
   "id": "ecf5fcf4",
   "metadata": {},
   "source": [
    "Calculate MAE and MSE of naive, ETS and Holt-Winters forecasts on the testing set"
   ]
  },
  {
   "cell_type": "code",
   "execution_count": 60,
   "id": "585d8ddf",
   "metadata": {},
   "outputs": [
    {
     "data": {
      "text/plain": [
       "Ellipsis"
      ]
     },
     "execution_count": 60,
     "metadata": {},
     "output_type": "execute_result"
    }
   ],
   "source": [
    "..."
   ]
  },
  {
   "cell_type": "markdown",
   "id": "4060d9e8",
   "metadata": {},
   "source": [
    "### Task 2\n",
    "Repeat task 1 using the first 720 days for calibration for ETS and HW models. Does the longer calibration window lead to more or less accurate forecasts? Compare the predictions only over the same out-of-sample period, i.e., days #721, #722, ... → why?"
   ]
  },
  {
   "cell_type": "code",
   "execution_count": 61,
   "id": "44734b68",
   "metadata": {},
   "outputs": [
    {
     "data": {
      "text/plain": [
       "Ellipsis"
      ]
     },
     "execution_count": 61,
     "metadata": {},
     "output_type": "execute_result"
    }
   ],
   "source": [
    "..."
   ]
  },
  {
   "cell_type": "markdown",
   "id": "d0194d12",
   "metadata": {},
   "source": [
    "### Task 3\n",
    "Repeat tasks 1 and 2 but forecast all hours of the day, treat prices at each hour of the day as separate time series."
   ]
  },
  {
   "cell_type": "code",
   "execution_count": 62,
   "id": "d8acff82",
   "metadata": {},
   "outputs": [
    {
     "data": {
      "text/plain": [
       "Ellipsis"
      ]
     },
     "execution_count": 62,
     "metadata": {},
     "output_type": "execute_result"
    }
   ],
   "source": [
    "..."
   ]
  }
 ],
 "metadata": {
  "kernelspec": {
   "display_name": "predictive-analytics-2025",
   "language": "python",
   "name": "python3"
  },
  "language_info": {
   "codemirror_mode": {
    "name": "ipython",
    "version": 3
   },
   "file_extension": ".py",
   "mimetype": "text/x-python",
   "name": "python",
   "nbconvert_exporter": "python",
   "pygments_lexer": "ipython3",
   "version": "3.14.0rc3"
  }
 },
 "nbformat": 4,
 "nbformat_minor": 5
}
