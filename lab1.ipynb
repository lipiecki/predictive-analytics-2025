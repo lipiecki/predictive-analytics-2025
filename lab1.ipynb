{
 "cells": [
  {
   "cell_type": "markdown",
   "id": "93fa9e31",
   "metadata": {},
   "source": [
    "# Lab 1\n",
    "Install the required packages using uv:\n",
    "```zsh\n",
    "uv add numpy polars scipy\n",
    "```"
   ]
  },
  {
   "cell_type": "code",
   "execution_count": 144,
   "id": "a12557db",
   "metadata": {},
   "outputs": [],
   "source": [
    "import numpy as np\n",
    "import polars as pl\n",
    "import scipy"
   ]
  },
  {
   "cell_type": "markdown",
   "id": "dae1578d",
   "metadata": {},
   "source": [
    "Load the Algerian exports dataset from the text file"
   ]
  },
  {
   "cell_type": "code",
   "execution_count": 145,
   "id": "bbf84427",
   "metadata": {},
   "outputs": [
    {
     "data": {
      "text/html": [
       "<div><style>\n",
       ".dataframe > thead > tr,\n",
       ".dataframe > tbody > tr {\n",
       "  text-align: right;\n",
       "  white-space: pre-wrap;\n",
       "}\n",
       "</style>\n",
       "<small>shape: (58, 2)</small><table border=\"1\" class=\"dataframe\"><thead><tr><th>Year</th><th>Exports</th></tr><tr><td>i64</td><td>f64</td></tr></thead><tbody><tr><td>1960</td><td>39.043173</td></tr><tr><td>1961</td><td>46.244557</td></tr><tr><td>1962</td><td>19.793873</td></tr><tr><td>1963</td><td>24.684682</td></tr><tr><td>1964</td><td>25.084059</td></tr><tr><td>&hellip;</td><td>&hellip;</td></tr><tr><td>2013</td><td>33.209898</td></tr><tr><td>2014</td><td>30.219117</td></tr><tr><td>2015</td><td>23.171778</td></tr><tr><td>2016</td><td>20.860011</td></tr><tr><td>2017</td><td>22.638887</td></tr></tbody></table></div>"
      ],
      "text/plain": [
       "shape: (58, 2)\n",
       "┌──────┬───────────┐\n",
       "│ Year ┆ Exports   │\n",
       "│ ---  ┆ ---       │\n",
       "│ i64  ┆ f64       │\n",
       "╞══════╪═══════════╡\n",
       "│ 1960 ┆ 39.043173 │\n",
       "│ 1961 ┆ 46.244557 │\n",
       "│ 1962 ┆ 19.793873 │\n",
       "│ 1963 ┆ 24.684682 │\n",
       "│ 1964 ┆ 25.084059 │\n",
       "│ …    ┆ …         │\n",
       "│ 2013 ┆ 33.209898 │\n",
       "│ 2014 ┆ 30.219117 │\n",
       "│ 2015 ┆ 23.171778 │\n",
       "│ 2016 ┆ 20.860011 │\n",
       "│ 2017 ┆ 22.638887 │\n",
       "└──────┴───────────┘"
      ]
     },
     "execution_count": 145,
     "metadata": {},
     "output_type": "execute_result"
    }
   ],
   "source": [
    "df = pl.read_csv(\"data/exports.txt\", separator='\\t', has_header=True)\n",
    "df"
   ]
  },
  {
   "cell_type": "markdown",
   "id": "1984aa44",
   "metadata": {},
   "source": [
    "Generate naive forecasts - prediction for time step `t` is the observation from `t-1`"
   ]
  },
  {
   "cell_type": "code",
   "execution_count": 146,
   "id": "a24d0c7e",
   "metadata": {},
   "outputs": [
    {
     "data": {
      "text/html": [
       "<div><style>\n",
       ".dataframe > thead > tr,\n",
       ".dataframe > tbody > tr {\n",
       "  text-align: right;\n",
       "  white-space: pre-wrap;\n",
       "}\n",
       "</style>\n",
       "<small>shape: (58, 3)</small><table border=\"1\" class=\"dataframe\"><thead><tr><th>Year</th><th>Exports</th><th>Naive</th></tr><tr><td>i64</td><td>f64</td><td>f64</td></tr></thead><tbody><tr><td>1960</td><td>39.043173</td><td>null</td></tr><tr><td>1961</td><td>46.244557</td><td>39.043173</td></tr><tr><td>1962</td><td>19.793873</td><td>46.244557</td></tr><tr><td>1963</td><td>24.684682</td><td>19.793873</td></tr><tr><td>1964</td><td>25.084059</td><td>24.684682</td></tr><tr><td>&hellip;</td><td>&hellip;</td><td>&hellip;</td></tr><tr><td>2013</td><td>33.209898</td><td>36.890548</td></tr><tr><td>2014</td><td>30.219117</td><td>33.209898</td></tr><tr><td>2015</td><td>23.171778</td><td>30.219117</td></tr><tr><td>2016</td><td>20.860011</td><td>23.171778</td></tr><tr><td>2017</td><td>22.638887</td><td>20.860011</td></tr></tbody></table></div>"
      ],
      "text/plain": [
       "shape: (58, 3)\n",
       "┌──────┬───────────┬───────────┐\n",
       "│ Year ┆ Exports   ┆ Naive     │\n",
       "│ ---  ┆ ---       ┆ ---       │\n",
       "│ i64  ┆ f64       ┆ f64       │\n",
       "╞══════╪═══════════╪═══════════╡\n",
       "│ 1960 ┆ 39.043173 ┆ null      │\n",
       "│ 1961 ┆ 46.244557 ┆ 39.043173 │\n",
       "│ 1962 ┆ 19.793873 ┆ 46.244557 │\n",
       "│ 1963 ┆ 24.684682 ┆ 19.793873 │\n",
       "│ 1964 ┆ 25.084059 ┆ 24.684682 │\n",
       "│ …    ┆ …         ┆ …         │\n",
       "│ 2013 ┆ 33.209898 ┆ 36.890548 │\n",
       "│ 2014 ┆ 30.219117 ┆ 33.209898 │\n",
       "│ 2015 ┆ 23.171778 ┆ 30.219117 │\n",
       "│ 2016 ┆ 20.860011 ┆ 23.171778 │\n",
       "│ 2017 ┆ 22.638887 ┆ 20.860011 │\n",
       "└──────┴───────────┴───────────┘"
      ]
     },
     "execution_count": 146,
     "metadata": {},
     "output_type": "execute_result"
    }
   ],
   "source": [
    "df = df.with_columns(pl.col('Exports').shift(1).alias('Naive'))\n",
    "df"
   ]
  },
  {
   "cell_type": "markdown",
   "id": "4f4b95f2",
   "metadata": {},
   "source": [
    "Compute the mean squared error (mse) of naive forecasts"
   ]
  },
  {
   "cell_type": "code",
   "execution_count": 147,
   "id": "f7692339",
   "metadata": {},
   "outputs": [
    {
     "data": {
      "text/plain": [
       "np.float64(35.7310080231692)"
      ]
     },
     "execution_count": 147,
     "metadata": {},
     "output_type": "execute_result"
    }
   ],
   "source": [
    "np.mean(np.square(np.array(df['Exports'])[1:] - np.array(df['Naive'])[1:]))"
   ]
  },
  {
   "cell_type": "markdown",
   "id": "1d47a06b",
   "metadata": {},
   "source": [
    "Write a function for simple ETS"
   ]
  },
  {
   "cell_type": "code",
   "execution_count": 148,
   "id": "76817daa",
   "metadata": {},
   "outputs": [],
   "source": [
    "def ets(alpha, obs):\n",
    "    '''\n",
    "    alpha:  parameter of the ETS model\n",
    "    obs:    'vector' of observations, which indices correspond to consecutive timesteps\n",
    "    '''\n",
    "    \n",
    "    forecast = np.full(len(obs), np.nan) \n",
    "    forecast[1] = obs[0] # start with naive forecast\n",
    "\n",
    "    for t in range(1, len(obs)-1):\n",
    "        forecast[t+1] = alpha*obs[t] + (1-alpha)*forecast[t]\n",
    "    \n",
    "    return forecast"
   ]
  },
  {
   "cell_type": "markdown",
   "id": "9bdce09a",
   "metadata": {},
   "source": [
    "Now, find the optimal alpha (minimizing mse) with a simple grid search method. First, write a function that for a given alpha outputs mse of a simple ETS model on our exports data"
   ]
  },
  {
   "cell_type": "code",
   "execution_count": 149,
   "id": "d0d33ece",
   "metadata": {},
   "outputs": [],
   "source": [
    "def ets_exports_mse(alpha):\n",
    "    obs = np.array(df['Exports'])\n",
    "    forecast = ets(alpha, obs)\n",
    "    return np.mean(np.square(forecast[1:] - obs[1:]))"
   ]
  },
  {
   "cell_type": "markdown",
   "id": "00e3fa9c",
   "metadata": {},
   "source": [
    "Specify the grid of alpha values and prepare an object for storing the corresponding mse value"
   ]
  },
  {
   "cell_type": "code",
   "execution_count": 150,
   "id": "6eec6382",
   "metadata": {},
   "outputs": [],
   "source": [
    "alpha_values = np.linspace(0.0, 1.0, 101)\n",
    "mse_values = np.full(len(alpha_values), np.nan)"
   ]
  },
  {
   "cell_type": "markdown",
   "id": "c7012c1a",
   "metadata": {},
   "source": [
    "Iterate through the grid and calculate the mse for each alpha value"
   ]
  },
  {
   "cell_type": "code",
   "execution_count": 151,
   "id": "9e1efd11",
   "metadata": {},
   "outputs": [],
   "source": [
    "for i in range(0, len(alpha_values)):\n",
    "    mse_values[i] = ets_exports_mse(alpha_values[i])"
   ]
  },
  {
   "cell_type": "markdown",
   "id": "bb0c31a5",
   "metadata": {},
   "source": [
    "Print the minimal mse and the corresponding optimal alpha"
   ]
  },
  {
   "cell_type": "code",
   "execution_count": 152,
   "id": "e2cdc10c",
   "metadata": {},
   "outputs": [
    {
     "name": "stdout",
     "output_type": "stream",
     "text": [
      "Minimal mse:  35.00941685268732\n",
      "Optimal alpha:  0.84\n"
     ]
    }
   ],
   "source": [
    "print(\"Minimal mse: \", np.min(mse_values))\n",
    "print(\"Optimal alpha: \", alpha_values[np.argmin(mse_values)])"
   ]
  },
  {
   "cell_type": "markdown",
   "id": "a130e451",
   "metadata": {},
   "source": [
    "Now, optimize alpha uscing `scipy.optimize.minimize()` function"
   ]
  },
  {
   "cell_type": "code",
   "execution_count": 153,
   "id": "dec3093a",
   "metadata": {},
   "outputs": [
    {
     "name": "stdout",
     "output_type": "stream",
     "text": [
      "Optimal parameters:  [0.83952679]\n"
     ]
    },
    {
     "name": "stderr",
     "output_type": "stream",
     "text": [
      "/var/folders/xy/dhxtkwz95bsf570h1dm0xmv00000gn/T/ipykernel_3584/2175954633.py:11: DeprecationWarning: Conversion of an array with ndim > 0 to a scalar is deprecated, and will error in future. Ensure you extract a single element from your array before performing this operation. (Deprecated NumPy 1.25.)\n",
      "  forecast[t+1] = alpha*obs[t] + (1-alpha)*forecast[t]\n"
     ]
    }
   ],
   "source": [
    "opt_params = sc.optimize.minimize(ets_exports_mse, [0.5], bounds = [(0, 1)])\n",
    "print(\"Optimal parameters: \", opt_params.x)"
   ]
  },
  {
   "cell_type": "markdown",
   "id": "d048b49f",
   "metadata": {},
   "source": [
    "Explain why we encoutered a warning in the line above and how the lambda function in the line below solves this issue"
   ]
  },
  {
   "cell_type": "code",
   "execution_count": 154,
   "id": "01fd7f63",
   "metadata": {},
   "outputs": [
    {
     "name": "stdout",
     "output_type": "stream",
     "text": [
      "Optimal parameters:  [0.83952679]\n"
     ]
    }
   ],
   "source": [
    "opt_params = sc.optimize.minimize(lambda arg : ets_exports_mse(arg[0]), [0.5], bounds = [(0, 1)])\n",
    "print(\"Optimal parameters: \", opt_params.x)"
   ]
  },
  {
   "cell_type": "markdown",
   "id": "024f0151",
   "metadata": {},
   "source": [
    "**Homework** \n",
    "\n",
    "Modify the `ets()` function so that instead of `alpha` it takes two paramters: `alpha` and `level0`, where `level0` will correspond to the first forecast (instead of `forecast[1] = obs[0]`)"
   ]
  }
 ],
 "metadata": {
  "kernelspec": {
   "display_name": "predictive-analytics-2025",
   "language": "python",
   "name": "python3"
  },
  "language_info": {
   "codemirror_mode": {
    "name": "ipython",
    "version": 3
   },
   "file_extension": ".py",
   "mimetype": "text/x-python",
   "name": "python",
   "nbconvert_exporter": "python",
   "pygments_lexer": "ipython3",
   "version": "3.14.0"
  }
 },
 "nbformat": 4,
 "nbformat_minor": 5
}
